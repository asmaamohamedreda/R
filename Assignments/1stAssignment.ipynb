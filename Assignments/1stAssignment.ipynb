{
  "nbformat": 4,
  "nbformat_minor": 0,
  "metadata": {
    "colab": {
      "provenance": []
    },
    "kernelspec": {
      "name": "ir",
      "display_name": "R"
    },
    "language_info": {
      "name": "R"
    }
  },
  "cells": [
    {
      "cell_type": "markdown",
      "source": [
        "## Section 1: Working with DNA Sequences (Variables & Vectors)\n"
      ],
      "metadata": {
        "id": "VCZddDIGl9dl"
      }
    },
    {
      "cell_type": "markdown",
      "source": [
        "### Q1. For a short segment of artificial DNA sequence data:\n",
        "\n",
        "Sequence 1: `\"AGTCCG\"`\n",
        "\n",
        "Sequence 2: `\"CGTAAA\"`\n",
        "\n",
        "**1.a.** Create two variables, `seq1` and `seq2`, to store the given DNA sequences.\n",
        "\n",
        "**1.b.** Combine these two sequences into a single sequence and store it in a new variable called `combined_seq`. <br>\n",
        "**1.c.** Create a vector `all_seqs` that contains both original sequences as its elements.\n",
        "\n"
      ],
      "metadata": {
        "id": "77emCJtzmBNI"
      }
    },
    {
      "cell_type": "markdown",
      "source": [
        "### Q2. Assume we are working with the following single nucleotide polymorphisms (SNPs):\n",
        "Represented as different alleles at specific positions:\n",
        "\n",
        "- SNP1: A, T\n",
        "- SNP2: C, G\n",
        "- SNP3: G, A\n",
        "- SNP4: T, C\n",
        "\n",
        "**Task:** Create four variables: `snp1`, `snp2`, `snp3`, and `snp4`. Each variable should store a vector representing the alleles for that SNP."
      ],
      "metadata": {
        "id": "j98PMxZU9AQo"
      }
    },
    {
      "cell_type": "markdown",
      "source": [
        "### Q3. If you have the MCL1 gene with the following sequence:\n",
        "\n",
        "```\n",
        "atcttataataataggaggagcccccaggagannnnnnnnnnnnnnnuaa\n",
        "```\n",
        "\n",
        "**a.** Clean this sequence: convert to uppercase and remove ambiguous nucleotides (e.g., `n`).\n"
      ],
      "metadata": {
        "id": "FL1rycx49Df5"
      }
    },
    {
      "cell_type": "markdown",
      "source": [
        "**b.** Extract the start and stop codons from this sequence.\n"
      ],
      "metadata": {
        "id": "isblkt0Y9Own"
      }
    },
    {
      "cell_type": "markdown",
      "source": [
        "**c.** Count how many nucleotides are in the MCL1 gene before and after cleaning.\n"
      ],
      "metadata": {
        "id": "aJtJTnGI9SgB"
      }
    },
    {
      "cell_type": "markdown",
      "source": [
        "**d.** Get the complementary strand for the cleaned MCL1 gene and transcribe it to RNA.\n"
      ],
      "metadata": {
        "id": "Gew9s0qi9UmG"
      }
    },
    {
      "cell_type": "markdown",
      "source": [
        "## Section 2:\n",
        "The equation for displacement in physics is:"
      ],
      "metadata": {
        "id": "PSOokBjm9Y18"
      }
    },
    {
      "cell_type": "markdown",
      "source": [
        "![image.png](data:image/png;base64,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)"
      ],
      "metadata": {
        "id": "phUYbWgA9cz-"
      }
    },
    {
      "cell_type": "markdown",
      "source": [
        "## Define variables and calculate the value of `a` for the above equation\n",
        "\n",
        "### Initial values\n",
        "u <- 10    # initial velocity in m/s <br>\n",
        "t <- 5     # time in seconds   <br>\n",
        "s <- 200   # displacement in meters  <br>"
      ],
      "metadata": {
        "id": "BofnZ42s9qgF"
      }
    },
    {
      "cell_type": "code",
      "execution_count": null,
      "metadata": {
        "id": "QhO93eYYlzLT"
      },
      "outputs": [],
      "source": []
    }
  ]
}